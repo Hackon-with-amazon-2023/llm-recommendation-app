{
 "cells": [
  {
   "cell_type": "code",
   "execution_count": 2,
   "metadata": {},
   "outputs": [],
   "source": [
    "# !pip install langchain"
   ]
  },
  {
   "cell_type": "code",
   "execution_count": 3,
   "metadata": {},
   "outputs": [],
   "source": [
    "import openai\n",
    "import langchain"
   ]
  },
  {
   "cell_type": "code",
   "execution_count": 1,
   "metadata": {},
   "outputs": [],
   "source": [
    "from langchain.llms import OpenAI\n",
    "from dotenv import load_dotenv\n",
    "import os\n",
    "\n",
    "load_dotenv()\n",
    "\n",
    "llm = OpenAI(openai_api_key=os.getenv(\"OPENAI_API_KEY\"))"
   ]
  },
  {
   "cell_type": "code",
   "execution_count": 58,
   "metadata": {},
   "outputs": [],
   "source": [
    "from langchain.prompts import PromptTemplate\n",
    "\n",
    "# user_query_prompt_template = PromptTemplate.from_template(\n",
    "#     \"You are a user who wants to buy some products from an ecommerce website but you don't know how to write query to search on basis of your requirements.\\n\"\n",
    "#     \"So you ask the chatbot to help you with that.\\n\"\n",
    "#     \"User Query: 'I want to buy a shirt.'\\n\"\n",
    "#     \"Then user says 'no give me red shirt.' then again changes his mind and says 'no give me blue shirt.'\\n\"\n",
    "#     \"AI: 'Blue Shirt'\\n\"\n",
    "#     \"\\n\"\n",
    "#     \"According to the user query, the chatbot will generate a query to search on the ecommerce website.\\n\"\n",
    "#     \"User Query: {query}\\n\"\n",
    "#     \"AI: \"\n",
    "# )\n",
    "\n",
    "\n",
    "user_query_prompt_template = PromptTemplate.from_template(\n",
    "    \"You are a seller of ecommerce store, you want to help a customer who wants to buy some products from an your store online but don't know how to write query to search products according to his requirements.\\n\"\n",
    "    \"So he ask you to help him in writing the query to search bar of website.\\n\"\n",
    "    \"Give more importance to the last sentence in the User Query\\n\"\n",
    "    \"You have to reply in the following format:\\n\"\n",
    "    \"{{\\\"query\\\": \\\"Your Query\\\"}}\\n\"\n",
    "    \"Example1:\\n\"\n",
    "    \"User Query: 'I want to buy a shirt which is blue in color or may be red'\\n\"\n",
    "    \"You: {{\\\"query\\\": \\\"Red or Blue Shirt\\\"}}\\n\"\n",
    "    \"Example2:\\n\"\n",
    "    \"User Query: 'Red or Blue Shirt, Show me shoes'\\n\"\n",
    "    \"You: {{\\\"query\\\": \\\"Shoes\\\"}}\\n\"\n",
    "    \"\"\n",
    "    \"\"\n",
    "    \"Give reply for the following query.\\n\"\n",
    "    \"User Query: {query}\\n\"\n",
    "    \"You: \"\n",
    ")"
   ]
  },
  {
   "cell_type": "code",
   "execution_count": 59,
   "metadata": {},
   "outputs": [
    {
     "name": "stdout",
     "output_type": "stream",
     "text": [
      "You are a seller of ecommerce store, you want to help a customer who wants to buy some products from an your store online but don't know how to write query to search products according to his requirements.\n",
      "So he ask you to help him in writing the query to search bar of website.\n",
      "Give more importance to the last sentence in the User Query\n",
      "You have to reply in the following format:\n",
      "{\"query\": \"Your Query\"}\n",
      "Example1:\n",
      "User Query: 'I want to buy a shirt which is blue in color or may be red'\n",
      "You: {\"query\": \"Red or Blue Shirt\"}\n",
      "Example2:\n",
      "User Query: 'Red or Blue Shirt, Show me shoes'\n",
      "You: {\"query\": \"Shoes\"}\n",
      "\n",
      "\n",
      "Give reply for the following query.\n",
      "User Query: I want to buy a shirt.\n",
      "You: \n"
     ]
    }
   ],
   "source": [
    "user_query_prompt = user_query_prompt_template.format(query='I want to buy a shirt.')\n",
    "print(user_query_prompt)"
   ]
  },
  {
   "cell_type": "code",
   "execution_count": 60,
   "metadata": {},
   "outputs": [
    {
     "data": {
      "text/plain": [
       "' {\"query\": \"Shirt\"}'"
      ]
     },
     "execution_count": 60,
     "metadata": {},
     "output_type": "execute_result"
    }
   ],
   "source": [
    "import json\n",
    "\n",
    "user_query_response = llm.predict(user_query_prompt, temperature=0.5)\n",
    "user_query_response"
   ]
  },
  {
   "cell_type": "code",
   "execution_count": 61,
   "metadata": {},
   "outputs": [
    {
     "data": {
      "text/plain": [
       "'Shirt'"
      ]
     },
     "execution_count": 61,
     "metadata": {},
     "output_type": "execute_result"
    }
   ],
   "source": [
    "user_query = json.loads(user_query_response)['query']\n",
    "user_query"
   ]
  },
  {
   "cell_type": "code",
   "execution_count": 62,
   "metadata": {},
   "outputs": [
    {
     "name": "stdout",
     "output_type": "stream",
     "text": [
      "You are a seller of ecommerce store, you want to help a customer who wants to buy some products from an your store online but don't know how to write query to search products according to his requirements.\n",
      "So he ask you to help him in writing the query to search bar of website.\n",
      "Give more importance to the last sentence in the User Query\n",
      "You have to reply in the following format:\n",
      "{\"query\": \"Your Query\"}\n",
      "Example1:\n",
      "User Query: 'I want to buy a shirt which is blue in color or may be red'\n",
      "You: {\"query\": \"Red or Blue Shirt\"}\n",
      "Example2:\n",
      "User Query: 'Red or Blue Shirt, Show me shoes'\n",
      "You: {\"query\": \"Shoes\"}\n",
      "\n",
      "\n",
      "Give reply for the following query.\n",
      "User Query: Shirt, which is blue in color or may be red\n",
      "You: \n"
     ]
    }
   ],
   "source": [
    "user_query += \", which is blue in color or may be red\"\n",
    "user_query_prompt = user_query_prompt_template.format(query=user_query)\n",
    "print(user_query_prompt)"
   ]
  },
  {
   "cell_type": "code",
   "execution_count": 63,
   "metadata": {},
   "outputs": [
    {
     "data": {
      "text/plain": [
       "' {\"query\": \"Red or Blue Shirt\"}'"
      ]
     },
     "execution_count": 63,
     "metadata": {},
     "output_type": "execute_result"
    }
   ],
   "source": [
    "user_query_response = llm.predict(user_query_prompt, temperature=0.5)\n",
    "user_query_response"
   ]
  },
  {
   "cell_type": "code",
   "execution_count": 64,
   "metadata": {},
   "outputs": [
    {
     "data": {
      "text/plain": [
       "'Red or Blue Shirt'"
      ]
     },
     "execution_count": 64,
     "metadata": {},
     "output_type": "execute_result"
    }
   ],
   "source": [
    "user_query = json.loads(user_query_response)['query']\n",
    "user_query"
   ]
  },
  {
   "cell_type": "code",
   "execution_count": 67,
   "metadata": {},
   "outputs": [
    {
     "name": "stdout",
     "output_type": "stream",
     "text": [
      "You are a seller of ecommerce store, you want to help a customer who wants to buy some products from an your store online but don't know how to write query to search products according to his requirements.\n",
      "So he ask you to help him in writing the query to search bar of website.\n",
      "Give more importance to the last sentence in the User Query\n",
      "You have to reply in the following format:\n",
      "{\"query\": \"Your Query\"}\n",
      "Example1:\n",
      "User Query: 'I want to buy a shirt which is blue in color or may be red'\n",
      "You: {\"query\": \"Red or Blue Shirt\"}\n",
      "Example2:\n",
      "User Query: 'Red or Blue Shirt, Show me shoes'\n",
      "You: {\"query\": \"Shoes\"}\n",
      "\n",
      "\n",
      "Give reply for the following query.\n",
      "User Query: Red or Blue Shirt, show me shoes, show me black shoes\n",
      "You: \n"
     ]
    }
   ],
   "source": [
    "user_query += \", show me black shoes\"\n",
    "user_query_prompt = user_query_prompt_template.format(query=user_query)\n",
    "print(user_query_prompt)"
   ]
  },
  {
   "cell_type": "code",
   "execution_count": 68,
   "metadata": {},
   "outputs": [
    {
     "data": {
      "text/plain": [
       "' {\"query\": \"Black Shoes\"}'"
      ]
     },
     "execution_count": 68,
     "metadata": {},
     "output_type": "execute_result"
    }
   ],
   "source": [
    "import json\n",
    "\n",
    "user_query_response = llm.predict(user_query_prompt, temperature=0.5)\n",
    "user_query_response"
   ]
  },
  {
   "cell_type": "code",
   "execution_count": null,
   "metadata": {},
   "outputs": [],
   "source": []
  }
 ],
 "metadata": {
  "kernelspec": {
   "display_name": "base",
   "language": "python",
   "name": "python3"
  },
  "language_info": {
   "codemirror_mode": {
    "name": "ipython",
    "version": 3
   },
   "file_extension": ".py",
   "mimetype": "text/x-python",
   "name": "python",
   "nbconvert_exporter": "python",
   "pygments_lexer": "ipython3",
   "version": "3.9.12"
  },
  "orig_nbformat": 4
 },
 "nbformat": 4,
 "nbformat_minor": 2
}
