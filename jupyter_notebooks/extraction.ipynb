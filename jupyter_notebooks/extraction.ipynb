{
 "cells": [
  {
   "cell_type": "code",
   "execution_count": 1,
   "metadata": {},
   "outputs": [],
   "source": [
    "import openai"
   ]
  },
  {
   "cell_type": "code",
   "execution_count": 2,
   "metadata": {},
   "outputs": [],
   "source": [
    "# Set your OpenAI API key\n",
    "api_key = \"your_api_key_here\""
   ]
  },
  {
   "cell_type": "markdown",
   "metadata": {},
   "source": [
    "Input:\n",
    "```\n",
    "{{\n",
    "\t\"question\": \"raw question\"\n",
    "}}\n",
    "```\n",
    "\n",
    "\n",
    "Output:\n",
    "```\n",
    "{{\n",
    "\t\"product_category\": \"category of the products mentioned\",\n",
    "\t\"product_names\": [\"array of product names mentioned\"],\n",
    "\t\"filters\": {{\n",
    "\t\t\"budget\" : {{\n",
    "\t\t\t\"low\": integer lower value of budget,\n",
    "\t\t\t\"high\": integet upper value of budget\n",
    "\t\t}},\n",
    "\t\t\"brands\": [\"array of brands mentioned\"],\n",
    "\t\t\"ratings\": integer value of rating in range [1, 5] \n",
    "\t}}\n",
    "}}\n",
    "```"
   ]
  },
  {
   "cell_type": "code",
   "execution_count": 3,
   "metadata": {},
   "outputs": [],
   "source": [
    "template_prompt = \"\"\"\n",
    "You are good in extracting information.\n",
    "You will be given a input json containing question, and you have to extract the following files in the specified JSON format.\n",
    "{{\n",
    "\t\"product_category\": \"category of the product mentioned\",\n",
    "\t\"product_names\": [\"array of specific product names mentioned\"],\n",
    "\t\"filters\": {{\n",
    "\t\t\"budget\" : {{\n",
    "\t\t\t\"low\": integer lower value of budget and default null,\n",
    "\t\t\t\"high\": integet upper value of budget and default null\n",
    "\t\t}},\n",
    "\t\t\"brands\": [\"array of brands/company names mentioned\"],\n",
    "\t\t\"ratings\": integer value of rating in range [1, 5] \n",
    "\t}}\n",
    "}}\n",
    "\n",
    "Example is show below\n",
    "Input:\n",
    "{{\n",
    "\t\"question\": \"I want to buy the best air conditioner for my living room in a 30K budget, please suggest me a branded 5-star power-rated AC preferably of LG.\"\n",
    "}}\n",
    "Output:\n",
    "{{\n",
    "\t\"product_category\": \"air conditioner\",\n",
    "\t\"product_names\": [],\n",
    "\t\"filters\": {{\n",
    "\t\t\"budget\" : {{\n",
    "\t\t\t\"low\": null,\n",
    "\t\t\t\"high\": 30000\n",
    "\t\t}},\n",
    "\t\t\"brands\": [\"LG\"],\n",
    "\t\t\"ratings\": 5\n",
    "\t}}\n",
    "}}\n",
    "\n",
    "Let's begin\n",
    "Input:\n",
    "{question}\n",
    "Output: \n",
    "\"\"\""
   ]
  },
  {
   "cell_type": "code",
   "execution_count": 6,
   "metadata": {},
   "outputs": [
    {
     "name": "stdout",
     "output_type": "stream",
     "text": [
      "{\n",
      "    \"product_category\": \"phone\",\n",
      "    \"product_names\": [],\n",
      "    \"filters\": {\n",
      "        \"budget\": {\n",
      "            \"low\": 15000,\n",
      "            \"high\": null\n",
      "        },\n",
      "        \"brands\": [\n",
      "            \"realme\",\n",
      "            \"xiomi\"\n",
      "        ],\n",
      "        \"ratings\": null\n",
      "    }\n",
      "}\n"
     ]
    }
   ],
   "source": [
    "# Function to call GPT-3.5 with the template\n",
    "def generate_translation(question):\n",
    "    prompt = template_prompt.format(question=question)\n",
    "    \n",
    "    response = openai.Completion.create(\n",
    "        engine=\"text-davinci-002\",  # GPT-3.5\n",
    "        prompt=prompt,\n",
    "        max_tokens=1000,  # Adjust this as needed\n",
    "        api_key=api_key\n",
    "    )\n",
    "    \n",
    "    return response.choices[0].text\n",
    "\n",
    "# Example usage\n",
    "question = {\"Suggest me some good phone around 15K budget for gaming, I personally like gaming phones of realme and xiomi\"}\n",
    "input_text = \"Hello, how are you?\"\n",
    "translation = generate_translation(question)\n",
    "print(translation)"
   ]
  },
  {
   "cell_type": "code",
   "execution_count": null,
   "metadata": {},
   "outputs": [],
   "source": []
  }
 ],
 "metadata": {
  "kernelspec": {
   "display_name": "Python 3",
   "language": "python",
   "name": "python3"
  },
  "language_info": {
   "codemirror_mode": {
    "name": "ipython",
    "version": 3
   },
   "file_extension": ".py",
   "mimetype": "text/x-python",
   "name": "python",
   "nbconvert_exporter": "python",
   "pygments_lexer": "ipython3",
   "version": "3.9.12"
  }
 },
 "nbformat": 4,
 "nbformat_minor": 2
}
