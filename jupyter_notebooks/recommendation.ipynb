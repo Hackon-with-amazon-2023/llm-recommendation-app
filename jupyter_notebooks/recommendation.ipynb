{
 "cells": [
  {
   "cell_type": "code",
   "execution_count": null,
   "metadata": {},
   "outputs": [],
   "source": [
    "import openai"
   ]
  },
  {
   "cell_type": "code",
   "execution_count": null,
   "metadata": {},
   "outputs": [],
   "source": [
    "# Set your OpenAI API key\n",
    "api_key = \"your_api_key_here\""
   ]
  },
  {
   "cell_type": "code",
   "execution_count": null,
   "metadata": {},
   "outputs": [],
   "source": [
    "template_prompt = \"\"\"\n",
    "Your are good in recommending items to user. \n",
    "\n",
    "You will be given an input list of items, and an original query. Your task is to recommend items to the user using the previous chat context and user preferences, also provide an explanation for the recommendation.\n",
    "\n",
    "User Chat: \"{user_chat}\"\n",
    "List of Items: \"{item_list}\"\n",
    "\n",
    "For example:\n",
    "\n",
    "Input:\n",
    "User Chat: {\"I want to buy AC\", \"Please suggest to me in less than 2000 range\", \"I prefer to buy split AC\"}\n",
    "List of items: [\n",
    "    {\"product_name\": \"LG split AC\", \"brand\": \"LG\", \"ratings\": 4.8, \"price\": 2000},\n",
    "    {\"product_name\": \"Voltas AC split\", \"brand\": \"Voltas\", \"ratings\": 5, \"price\": 3000},\n",
    "    {\"product_name\": \"Carrier AC\", \"brand\": \"Carrier\", \"ratings\": 3, \"price\": 1000}\n",
    "]\n",
    "\n",
    "Output:\n",
    "\"Here is the list of best suggested items based on your interest\"\n",
    "Given product is the best split AC in your specified price range.\n",
    "{\"product_name\": \"LG split AC\", \"brand\": \"LG\", \"ratings\": 4.8, \"price\": 2000}\n",
    "\n",
    "Let's begin.\n",
    "\n",
    "Input:\n",
    "{question}\n",
    "\n",
    "Output:\n",
    "\"\"\"\n"
   ]
  },
  {
   "cell_type": "code",
   "execution_count": null,
   "metadata": {},
   "outputs": [],
   "source": [
    "# Function to call GPT-3.5 with the template\n",
    "def generate_translation(question):\n",
    "    prompt = template_prompt.format(question=question)\n",
    "    \n",
    "    response = openai.Completion.create(\n",
    "        engine=\"text-davinci-002\",  # GPT-3.5\n",
    "        prompt=prompt,\n",
    "        max_tokens=50,  # Adjust this as needed\n",
    "        api_key=api_key\n",
    "    )\n",
    "    \n",
    "    return response.choices[0].text\n",
    "\n",
    "# Example usage\n",
    "question = {\"Suggest me some good phone around 15K budget for gaming, I personally like gaming phones of realme and xiomi\"}\n",
    "input_text = \"Hello, how are you?\"\n",
    "translation = generate_translation(input_text)\n",
    "print(translation)"
   ]
  }
 ],
 "metadata": {
  "language_info": {
   "name": "python"
  },
  "orig_nbformat": 4
 },
 "nbformat": 4,
 "nbformat_minor": 2
}
