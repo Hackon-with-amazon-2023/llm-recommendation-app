{
 "cells": [
  {
   "cell_type": "code",
   "execution_count": null,
   "metadata": {},
   "outputs": [],
   "source": [
    "!pip install langchain openai python-dotenv==0.21.0\n",
    "import openai, os\n",
    "from dotenv.main import load_dotenv"
   ]
  },
  {
   "cell_type": "code",
   "execution_count": null,
   "metadata": {},
   "outputs": [],
   "source": [
    "# Set your OpenAI API key\n",
    "load_dotenv()\n",
    "\n",
    "api_key = os.getenv(\"OPENAI_API_KEY\")"
   ]
  },
  {
   "cell_type": "code",
   "execution_count": null,
   "metadata": {},
   "outputs": [],
   "source": [
    "# external knowledge base for storing user prefrences\n",
    "contexts = [\n",
    "    (\n",
    "        \"User buy branded items only.\" +\n",
    "        \" User spends money wisely.\"\n",
    "    ),\n",
    "    (\n",
    "        \"User buy items on holdiays.\" +\n",
    "        \" User buy items on festivals.\"\n",
    "    )\n",
    "]\n",
    "context_str = '\\n\\n##\\n\\n'.join(contexts)\n"
   ]
  },
  {
   "cell_type": "code",
   "execution_count": null,
   "metadata": {},
   "outputs": [],
   "source": [
    "template = \"\"\"\n",
    "Your are good in recommending items to user. \n",
    "\n",
    "You will be given an input list of items, and item requirements. Your task is to recommend items to the user using the previous chat context and user preferences, also provide an explanation for the recommendation.\n",
    "\n",
    "###\n",
    "\n",
    "Contexts:\n",
    "{context_str}\n",
    "\n",
    "###\n",
    "\n",
    "###\n",
    "Question:{item_requirements}\n",
    "###\n",
    "\n",
    "###\n",
    "Question:{item_list}\n",
    "###\n",
    "\n",
    "Answer:\n",
    "\"\"\"\n"
   ]
  },
  {
   "cell_type": "code",
   "execution_count": null,
   "metadata": {},
   "outputs": [],
   "source": [
    "from langchain import PromptTemplate\n",
    "\n",
    "# Function to call GPT-3.5 with the template\n",
    "def generate_recommendation(item_requirements, item_list, context_str):\n",
    "    \n",
    "    prompt_template = PromptTemplate(\n",
    "        input_variables=[\"item_requirements\", \"item_list\", \"context_str\"],\n",
    "        template=template\n",
    "    )\n",
    "\n",
    "    prompt = prompt_template.format(\n",
    "        item_requirements= item_requirements,\n",
    "        item_list=item_list,\n",
    "        context_str=context_str\n",
    "    )\n",
    "\n",
    "    response = openai.Completion.create(\n",
    "        engine=\"text-davinci-002\",  # GPT-3.5\n",
    "        prompt=prompt,\n",
    "        max_tokens=50,  # Adjust this as needed\n",
    "        api_key=api_key\n",
    "    )\n",
    "    \n",
    "    return response.choices[0].text"
   ]
  },
  {
   "cell_type": "code",
   "execution_count": null,
   "metadata": {},
   "outputs": [],
   "source": [
    "item_requirements = {\n",
    "    \"product_name\":\"ac\",\n",
    "    \"price\":2000,\n",
    "    \"brand\":\"\"\n",
    "}\n",
    "item_list = [\n",
    "        {\"product_name\": \"LG split AC\", \"brand\": \"LG\", \"ratings\": 4.8, \"price\": 2000},\n",
    "        {\"product_name\": \"Voltas AC split\", \"brand\": \"Voltas\", \"ratings\": 5, \"price\": 3000},\n",
    "        {\"product_name\": \"Carrier AC\", \"brand\": \"Carrier\", \"ratings\": 3, \"price\": 1000}\n",
    "    ]\n",
    "recommendation = generate_recommendation(item_requirements, item_list, context_str)\n",
    "print(recommendation)"
   ]
  },
  {
   "cell_type": "code",
   "execution_count": null,
   "metadata": {},
   "outputs": [],
   "source": []
  }
 ],
 "metadata": {
  "kernelspec": {
   "display_name": "Python 3 (ipykernel)",
   "language": "python",
   "name": "python3"
  },
  "language_info": {
   "codemirror_mode": {
    "name": "ipython",
    "version": 3
   },
   "file_extension": ".py",
   "mimetype": "text/x-python",
   "name": "python",
   "nbconvert_exporter": "python",
   "pygments_lexer": "ipython3",
   "version": "3.10.8"
  },
  "orig_nbformat": 4
 },
 "nbformat": 4,
 "nbformat_minor": 2
}
