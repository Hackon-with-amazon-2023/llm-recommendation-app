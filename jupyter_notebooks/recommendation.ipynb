{
 "cells": [
  {
   "cell_type": "code",
   "execution_count": 11,
   "metadata": {},
   "outputs": [],
   "source": [
    "# !pip install langchain openai python-dotenv==0.21.0\n",
    "import openai, os\n",
    "from dotenv.main import load_dotenv"
   ]
  },
  {
   "cell_type": "code",
   "execution_count": 12,
   "metadata": {},
   "outputs": [],
   "source": [
    "# Set your OpenAI API key\n",
    "load_dotenv()\n",
    "\n",
    "api_key = os.getenv(\"OPENAI_API_KEY\")"
   ]
  },
  {
   "cell_type": "code",
   "execution_count": 13,
   "metadata": {},
   "outputs": [],
   "source": [
    "# external knowledge base for storing user prefrences\n",
    "contexts = [\n",
    "    (\n",
    "        \"User buy branded items only.\" +\n",
    "        \" User spends money wisely.\"\n",
    "    ),\n",
    "    (\n",
    "        \"User buy items on holdiays.\" +\n",
    "        \" User buy items on festivals.\"\n",
    "    )\n",
    "]\n",
    "user_preferences = '\\n\\n##\\n\\n'.join(contexts)\n"
   ]
  },
  {
   "cell_type": "code",
   "execution_count": 66,
   "metadata": {},
   "outputs": [],
   "source": [
    "template = \"\"\"\n",
    "You are skilled in recommending products to users.\n",
    "\n",
    "You will receive an input list of products and user requirements and user preferences. \n",
    "Your objective is to recommend list of products that meet the user's criteria. Output the recommendations in a json format.\n",
    "Output format:\n",
    "[product, product, ...]\n",
    "Product format:\n",
    "{{\n",
    "\"product_name\": \"name\",\n",
    "\"product_asin\": \"asin\"\n",
    "}}\n",
    "\n",
    "Let's get started.\n",
    "\n",
    "Input:\n",
    "{{\n",
    "\"product_list\": {product_list},\n",
    "\"user_requirements\": {user_requirements},\n",
    "\"user_preferences\": {user_preferences}\n",
    "}}\n",
    "Output:\n",
    "\"\"\"\n"
   ]
  },
  {
   "cell_type": "code",
   "execution_count": 67,
   "metadata": {},
   "outputs": [],
   "source": [
    "from langchain import PromptTemplate\n",
    "import json\n",
    "\n",
    "# Function to call GPT-3.5 with the template\n",
    "def generate_recommendation(user_preferences, user_requirements, product_list):\n",
    "    \n",
    "    prompt_template = PromptTemplate(\n",
    "        input_variables=[\"user_preferences\", \"user_requirements\", \"product_list\"],\n",
    "        template=template\n",
    "    )\n",
    "\n",
    "    prompt = prompt_template.format(\n",
    "        user_preferences=user_preferences,\n",
    "        user_requirements= user_requirements,\n",
    "        product_list=product_list\n",
    "    )\n",
    "\n",
    "    response = openai.Completion.create(\n",
    "        engine=\"text-davinci-002\",  # GPT-3.5\n",
    "        prompt=prompt,\n",
    "        max_tokens=1000,  # Adjust this as needed\n",
    "        api_key=api_key,\n",
    "        temperature=0,\n",
    "    )\n",
    "    \n",
    "    return json.loads(response.choices[0].text)\n",
    "    # return response.choices[0].text"
   ]
  },
  {
   "cell_type": "code",
   "execution_count": 68,
   "metadata": {},
   "outputs": [
    {
     "data": {
      "text/plain": [
       "[{'product_name': 'Amazon Basics Window Mounted Air Conditioner with Mechanical Control Cools 150 Square Feet, 5000 BTU, AC Unit, White',\n",
       "  'product_asin': 'B07N6KTC5V'},\n",
       " {'product_name': 'Goodman Mini Split 9,000 BTU 18 SEER2, Inverter Ductless Air Conditioner with Heat Pump System, Energy-Efficient Mini Split Air Conditioner, Installation Kit Included, 230V',\n",
       "  'product_asin': 'B0CH9CD7M1'},\n",
       " {'product_name': 'Frigidaire FFRA051WAE Window-Mounted Room Air Conditioner, 5,000 BTU with Temperature Control and Easy-to-Clean Washable Filter, in White',\n",
       "  'product_asin': 'B07RGM11L5'},\n",
       " {'product_name': 'Vremi 12000 BTU Portable Air Conditioner - Easy to Move AC Unit for Rooms up to 350 Sq Ft - with Powerful Cooling Fan, Reusable Filter, Auto Shut Off (8150 BTU New DOE)',\n",
       "  'product_asin': 'B09SZ9HL61'},\n",
       " {'product_name': 'Arctic Air Pure Chill 2.0 Evaporative Air Cooler by Ontel - Powerful, Quiet, Lightweight and Portable Space Cooler with Hydro-Chill Technology For Bedroom, Office, Living Room & More,Blue',\n",
       "  'product_asin': 'B09QH3VC1F'},\n",
       " {'product_name': 'hOmeLabs Window Air Conditioner 12000 BTU - Smart Control, Eco Mode, LED Control Panel - Low Noise, Remote Control - Compatible with Alexa and Google Assistant - Ideal for Rooms up to 550 Sq. Ft.',\n",
       "  'product_asin': 'B0B6Q5WVY8'},\n",
       " {'product_name': 'Amazon Basics Portable Air Conditioner With Remote, Cools 450 Square Feet, 10,000 BTU ASHARE / 6000 BTU SACC, White',\n",
       "  'product_asin': 'B07YPV3KSY'},\n",
       " {'product_name': 'BLACK+DECKER 8,000 BTU Portable Air Conditioner up to 350 Sq. with Remote Control, White',\n",
       "  'product_asin': 'B01DLPUWL2'},\n",
       " {'product_name': 'Arctic Air Chill Zone Evaporative Cooler with Hydro-Chill Technology, Portable Fan with 4 Adjustable Speeds, 8-Hour Cooling, Fan for Bedroom, Living Room, Basement, Office & More',\n",
       "  'product_asin': 'B0C29KGN2D'},\n",
       " {'product_name': 'Cftore Air Conditioner Purifiers Evaporative AC, Air Cooler Humidifier Fan Mini, Lightweight Oscillating, 3 Speeds 7 Colors Small Cooling LED Technology For Bedroom, Office, Living Room',\n",
       "  'product_asin': 'B0CHDV39QX'},\n",
       " {'product_name': 'ZAFRO 8,000 BTU Portable Air Conditioners Cools up to 350 Sq.ft, Portable AC Built-in Cool, Dehumidifier, Fan Modes, Room Air Conditioner with Remote Control/Installation Kits, White',\n",
       "  'product_asin': 'B0BP1XMXMC'},\n",
       " {'product_name': 'Acekool 12000 BTU Smart Mini Split AC/Heating System 19 SEER Split Inverter Air Conditioner, Cools Rooms up to 750 Sq. Ft, with Pre-Charged Condenser, Heat Pump & Installation Kit, 115V',\n",
       "  'product_asin': 'B0CJ31PVQ4'},\n",
       " {'product_name': 'GE Window Air Conditioner 5000 BTU, Efficient Cooling For Smaller Areas Like Bedrooms And Guest Rooms, 5K BTU Window AC Unit With Easy Install Kit, White',\n",
       "  'product_asin': 'B08N6ZKDCY'},\n",
       " {'product_name': 'Evaporative Air Cooler, BALKO 3-IN-1 Windowless Swamp Cooler w/ 0.8 Gal Detachable Water Tank, 7H Timer & Remote, 4 Ice Pack, 70° Oscillation, Ductless Air Conditioner Portable for Room Indoor Office',\n",
       "  'product_asin': 'B0CGQYTYZ3'},\n",
       " {'product_name': 'Shinco 8,000 BTU Portable Air Conditioner, AC Unit with Built-in Cool, Dehumidifier & Fan Modes for Room up to 200 sq.ft, Conditioner Remote Control, 24 Hour Timer, Installation Kit',\n",
       "  'product_asin': 'B07HR5CN7G'},\n",
       " {'product_name': 'BALKO 3 IN 1 Evaporative Air Cooler, 35-INCH Swamp Cooler Air Conditioner Portable for Room w/2 Modes & 3 Speeds, Remote & 7H Timer, 60°Oscillation, Tower Evaporative Cooler for Indoor Bedroom Office',\n",
       "  'product_asin': 'B0CGQZH9D8'},\n",
       " {'product_name': 'AIRO COMFORT Portable Air Conditioner 8000 BTU for Room 350 sq. ft, Floor Standing AC Unit with Remote Control & DYI Installation Kit',\n",
       "  'product_asin': 'B09253HZZJ'},\n",
       " {'product_name': 'ROLLICOOL Alexa-Enabled Portable Air Conditioner for Rooms up to 450 sq ft - 10,000 BTU 4-in-1 Smart AC Unit with Dual-Band Wi-Fi and App, Dehumidifier, Fan, 24 Hour Timer w/Sleep',\n",
       "  'product_asin': 'B0C3JM46X7'},\n",
       " {'product_name': 'Evapolar evaCHILL Portable Air Conditioners / Mini AC Unit / Small Personal Evaporative Air Cooler and Humidifier Fan for Bedroom, Office, Car, Camping / EV-500 / Opaque White',\n",
       "  'product_asin': 'B07PH1N3DT'},\n",
       " {'product_name': 'mollie 5,000 BTU Window Air Conditioner with Mechanical Controls and easy-to-Clean Washable Filter, Cool up to 150 Sq. Ft. For Bedrooms Guest Rooms',\n",
       "  'product_asin': 'B0C595S61X'},\n",
       " {'product_name': 'SereneLife SLPAC8 SLPAC 3-in-1 Portable Air Conditioner with Built-in Dehumidifier Function,Fan Mode, Remote Control, Complete Window Mount Exhaust Kit, 8,000 BTU, White',\n",
       "  'product_asin': 'B07DQVNSP8'},\n",
       " {'product_name': 'BougeRV Portable Air Conditioner, 1800BTU Compact Air Cooler,6 Wind Speeds Tent Air Conditioner for Van Life, Camping Tent, Outdoor, Office',\n",
       "  'product_asin': 'B0C5MBFWDY'}]"
      ]
     },
     "execution_count": 68,
     "metadata": {},
     "output_type": "execute_result"
    }
   ],
   "source": [
    "item_list = {'product_names': ['Amazon Basics Window Mounted Air Conditioner with Mechanical Control Cools 150 Square Feet, 5000 BTU, AC Unit, White', 'Goodman Mini Split 9,000 BTU 18 SEER2, Inverter Ductless Air Conditioner with Heat Pump System, Energy-Efficient Mini Split Air Conditioner, Installation Kit Included, 230V', 'Frigidaire FFRA051WAE Window-Mounted Room Air Conditioner, 5,000 BTU with Temperature Control and Easy-to-Clean Washable Filter, in White', 'Vremi 12000 BTU Portable Air Conditioner - Easy to Move AC Unit for Rooms up to 350 Sq Ft - with Powerful Cooling Fan, Reusable Filter, Auto Shut Off (8150 BTU New DOE)', 'Arctic Air Pure Chill 2.0 Evaporative Air Cooler by Ontel - Powerful, Quiet, Lightweight and Portable Space Cooler with Hydro-Chill Technology For Bedroom, Office, Living Room & More,Blue', 'hOmeLabs Window Air Conditioner 12000 BTU - Smart Control, Eco Mode, LED Control Panel - Low Noise, Remote Control - Compatible with Alexa and Google Assistant - Ideal for Rooms up to 550 Sq. Ft.', 'Amazon Basics Portable Air Conditioner With Remote, Cools 450 Square Feet, 10,000 BTU ASHARE / 6000 BTU SACC, White', 'BLACK+DECKER 8,000 BTU Portable Air Conditioner up to 350 Sq. with Remote Control, White', 'Arctic Air Chill Zone Evaporative Cooler with Hydro-Chill Technology, Portable Fan with 4 Adjustable Speeds, 8-Hour Cooling, Fan for Bedroom, Living Room, Basement, Office & More', 'Cftore Air Conditioner Purifiers Evaporative AC, Air Cooler Humidifier Fan Mini, Lightweight Oscillating, 3 Speeds 7 Colors Small Cooling LED Technology For Bedroom, Office, Living Room', 'ZAFRO 8,000 BTU Portable Air Conditioners Cools up to 350 Sq.ft, Portable AC Built-in Cool, Dehumidifier, Fan Modes, Room Air Conditioner with Remote Control/Installation Kits, White', 'Acekool 12000 BTU Smart Mini Split AC/Heating System 19 SEER Split Inverter Air Conditioner, Cools Rooms up to 750 Sq. Ft, with Pre-Charged Condenser, Heat Pump & Installation Kit, 115V', 'GE Window Air Conditioner 5000 BTU, Efficient Cooling For Smaller Areas Like Bedrooms And Guest Rooms, 5K BTU Window AC Unit With Easy Install Kit, White', 'Evaporative Air Cooler, BALKO 3-IN-1 Windowless Swamp Cooler w/ 0.8 Gal Detachable Water Tank, 7H Timer & Remote, 4 Ice Pack, 70° Oscillation, Ductless Air Conditioner Portable for Room Indoor Office', 'Shinco 8,000 BTU Portable Air Conditioner, AC Unit with Built-in Cool, Dehumidifier & Fan Modes for Room up to 200 sq.ft, Conditioner Remote Control, 24 Hour Timer, Installation Kit', 'BALKO 3 IN 1 Evaporative Air Cooler, 35-INCH Swamp Cooler Air Conditioner Portable for Room w/2 Modes & 3 Speeds, Remote & 7H Timer, 60°Oscillation, Tower Evaporative Cooler for Indoor Bedroom Office', 'AIRO COMFORT Portable Air Conditioner 8000 BTU for Room 350 sq. ft, Floor Standing AC Unit with Remote Control & DYI Installation Kit', 'ROLLICOOL Alexa-Enabled Portable Air Conditioner for Rooms up to 450 sq ft - 10,000 BTU 4-in-1 Smart AC Unit with Dual-Band Wi-Fi and App, Dehumidifier, Fan, 24 Hour Timer w/Sleep', 'Evapolar evaCHILL Portable Air Conditioners / Mini AC Unit / Small Personal Evaporative Air Cooler and Humidifier Fan for Bedroom, Office, Car, Camping / EV-500 / Opaque White', 'mollie 5,000 BTU Window Air Conditioner with Mechanical Controls and easy-to-Clean Washable Filter, Cool up to 150 Sq. Ft. For Bedrooms Guest Rooms', 'SereneLife SLPAC8 SLPAC 3-in-1 Portable Air Conditioner with Built-in Dehumidifier Function,Fan Mode, Remote Control, Complete Window Mount Exhaust Kit, 8,000 BTU, White', 'BougeRV Portable Air Conditioner, 1800BTU Compact Air Cooler,6 Wind Speeds Tent Air Conditioner for Van Life, Camping Tent, Outdoor, Office'], 'product_asin': ['B07N6KTC5V', 'B0CH9CD7M1', 'B07RGM11L5', 'B09SZ9HL61', 'B09QH3VC1F', 'B0B6Q5WVY8', 'B07YPV3KSY', 'B01DLPUWL2', 'B0C29KGN2D', 'B0CHDV39QX', 'B0BP1XMXMC', 'B0CJ31PVQ4', 'B08N6ZKDCY', 'B0CGQYTYZ3', 'B07HR5CN7G', 'B0CGQZH9D8', 'B09253HZZJ', 'B0C3JM46X7', 'B07PH1N3DT', 'B0C595S61X', 'B07DQVNSP8', 'B0C5MBFWDY']}\n",
    "\n",
    "\n",
    "new_item_list = []\n",
    "for i in range(len(item_list['product_asin'])):\n",
    "    new_item_list.append({\"product_name\": item_list['product_names'][i], \"product_asin\": item_list['product_asin'][i]})\n",
    "new_item_list"
   ]
  },
  {
   "cell_type": "code",
   "execution_count": 71,
   "metadata": {},
   "outputs": [
    {
     "ename": "JSONDecodeError",
     "evalue": "Expecting property name enclosed in double quotes: line 2 column 3 (char 3)",
     "output_type": "error",
     "traceback": [
      "\u001b[1;31m---------------------------------------------------------------------------\u001b[0m",
      "\u001b[1;31mJSONDecodeError\u001b[0m                           Traceback (most recent call last)",
      "\u001b[1;32md:\\Pulkit\\PycharmProjects\\hack_on_with_amazon\\llm-recommendation-app\\jupyter_notebooks\\recommendation.ipynb Cell 7\u001b[0m line \u001b[0;36m<cell line: 7>\u001b[1;34m()\u001b[0m\n\u001b[0;32m      <a href='vscode-notebook-cell:/d%3A/Pulkit/PycharmProjects/hack_on_with_amazon/llm-recommendation-app/jupyter_notebooks/recommendation.ipynb#X10sZmlsZQ%3D%3D?line=0'>1</a>\u001b[0m user_requirements \u001b[39m=\u001b[39m {\n\u001b[0;32m      <a href='vscode-notebook-cell:/d%3A/Pulkit/PycharmProjects/hack_on_with_amazon/llm-recommendation-app/jupyter_notebooks/recommendation.ipynb#X10sZmlsZQ%3D%3D?line=1'>2</a>\u001b[0m     \u001b[39m\"\u001b[39m\u001b[39mproduct_name\u001b[39m\u001b[39m\"\u001b[39m:\u001b[39m\"\u001b[39m\u001b[39mac\u001b[39m\u001b[39m\"\u001b[39m,\n\u001b[0;32m      <a href='vscode-notebook-cell:/d%3A/Pulkit/PycharmProjects/hack_on_with_amazon/llm-recommendation-app/jupyter_notebooks/recommendation.ipynb#X10sZmlsZQ%3D%3D?line=2'>3</a>\u001b[0m     \u001b[39m\"\u001b[39m\u001b[39mprice\u001b[39m\u001b[39m\"\u001b[39m:\u001b[39m2000\u001b[39m,\n\u001b[0;32m      <a href='vscode-notebook-cell:/d%3A/Pulkit/PycharmProjects/hack_on_with_amazon/llm-recommendation-app/jupyter_notebooks/recommendation.ipynb#X10sZmlsZQ%3D%3D?line=3'>4</a>\u001b[0m     \u001b[39m\"\u001b[39m\u001b[39mbrand\u001b[39m\u001b[39m\"\u001b[39m:\u001b[39m\"\u001b[39m\u001b[39m\"\u001b[39m\n\u001b[0;32m      <a href='vscode-notebook-cell:/d%3A/Pulkit/PycharmProjects/hack_on_with_amazon/llm-recommendation-app/jupyter_notebooks/recommendation.ipynb#X10sZmlsZQ%3D%3D?line=4'>5</a>\u001b[0m }\n\u001b[0;32m      <a href='vscode-notebook-cell:/d%3A/Pulkit/PycharmProjects/hack_on_with_amazon/llm-recommendation-app/jupyter_notebooks/recommendation.ipynb#X10sZmlsZQ%3D%3D?line=5'>6</a>\u001b[0m product_list \u001b[39m=\u001b[39m new_item_list\n\u001b[1;32m----> <a href='vscode-notebook-cell:/d%3A/Pulkit/PycharmProjects/hack_on_with_amazon/llm-recommendation-app/jupyter_notebooks/recommendation.ipynb#X10sZmlsZQ%3D%3D?line=6'>7</a>\u001b[0m recommendation \u001b[39m=\u001b[39m generate_recommendation(user_preferences, user_requirements, product_list)\n\u001b[0;32m      <a href='vscode-notebook-cell:/d%3A/Pulkit/PycharmProjects/hack_on_with_amazon/llm-recommendation-app/jupyter_notebooks/recommendation.ipynb#X10sZmlsZQ%3D%3D?line=7'>8</a>\u001b[0m \u001b[39mprint\u001b[39m(recommendation)\n",
      "\u001b[1;32md:\\Pulkit\\PycharmProjects\\hack_on_with_amazon\\llm-recommendation-app\\jupyter_notebooks\\recommendation.ipynb Cell 7\u001b[0m line \u001b[0;36mgenerate_recommendation\u001b[1;34m(user_preferences, user_requirements, product_list)\u001b[0m\n\u001b[0;32m     <a href='vscode-notebook-cell:/d%3A/Pulkit/PycharmProjects/hack_on_with_amazon/llm-recommendation-app/jupyter_notebooks/recommendation.ipynb#X10sZmlsZQ%3D%3D?line=11'>12</a>\u001b[0m prompt \u001b[39m=\u001b[39m prompt_template\u001b[39m.\u001b[39mformat(\n\u001b[0;32m     <a href='vscode-notebook-cell:/d%3A/Pulkit/PycharmProjects/hack_on_with_amazon/llm-recommendation-app/jupyter_notebooks/recommendation.ipynb#X10sZmlsZQ%3D%3D?line=12'>13</a>\u001b[0m     user_preferences\u001b[39m=\u001b[39muser_preferences,\n\u001b[0;32m     <a href='vscode-notebook-cell:/d%3A/Pulkit/PycharmProjects/hack_on_with_amazon/llm-recommendation-app/jupyter_notebooks/recommendation.ipynb#X10sZmlsZQ%3D%3D?line=13'>14</a>\u001b[0m     user_requirements\u001b[39m=\u001b[39m user_requirements,\n\u001b[0;32m     <a href='vscode-notebook-cell:/d%3A/Pulkit/PycharmProjects/hack_on_with_amazon/llm-recommendation-app/jupyter_notebooks/recommendation.ipynb#X10sZmlsZQ%3D%3D?line=14'>15</a>\u001b[0m     product_list\u001b[39m=\u001b[39mproduct_list\n\u001b[0;32m     <a href='vscode-notebook-cell:/d%3A/Pulkit/PycharmProjects/hack_on_with_amazon/llm-recommendation-app/jupyter_notebooks/recommendation.ipynb#X10sZmlsZQ%3D%3D?line=15'>16</a>\u001b[0m )\n\u001b[0;32m     <a href='vscode-notebook-cell:/d%3A/Pulkit/PycharmProjects/hack_on_with_amazon/llm-recommendation-app/jupyter_notebooks/recommendation.ipynb#X10sZmlsZQ%3D%3D?line=17'>18</a>\u001b[0m response \u001b[39m=\u001b[39m openai\u001b[39m.\u001b[39mCompletion\u001b[39m.\u001b[39mcreate(\n\u001b[0;32m     <a href='vscode-notebook-cell:/d%3A/Pulkit/PycharmProjects/hack_on_with_amazon/llm-recommendation-app/jupyter_notebooks/recommendation.ipynb#X10sZmlsZQ%3D%3D?line=18'>19</a>\u001b[0m     engine\u001b[39m=\u001b[39m\u001b[39m\"\u001b[39m\u001b[39mtext-davinci-002\u001b[39m\u001b[39m\"\u001b[39m,  \u001b[39m# GPT-3.5\u001b[39;00m\n\u001b[0;32m     <a href='vscode-notebook-cell:/d%3A/Pulkit/PycharmProjects/hack_on_with_amazon/llm-recommendation-app/jupyter_notebooks/recommendation.ipynb#X10sZmlsZQ%3D%3D?line=19'>20</a>\u001b[0m     prompt\u001b[39m=\u001b[39mprompt,\n\u001b[1;32m   (...)\u001b[0m\n\u001b[0;32m     <a href='vscode-notebook-cell:/d%3A/Pulkit/PycharmProjects/hack_on_with_amazon/llm-recommendation-app/jupyter_notebooks/recommendation.ipynb#X10sZmlsZQ%3D%3D?line=22'>23</a>\u001b[0m     temperature\u001b[39m=\u001b[39m\u001b[39m0\u001b[39m,\n\u001b[0;32m     <a href='vscode-notebook-cell:/d%3A/Pulkit/PycharmProjects/hack_on_with_amazon/llm-recommendation-app/jupyter_notebooks/recommendation.ipynb#X10sZmlsZQ%3D%3D?line=23'>24</a>\u001b[0m )\n\u001b[1;32m---> <a href='vscode-notebook-cell:/d%3A/Pulkit/PycharmProjects/hack_on_with_amazon/llm-recommendation-app/jupyter_notebooks/recommendation.ipynb#X10sZmlsZQ%3D%3D?line=25'>26</a>\u001b[0m \u001b[39mreturn\u001b[39;00m json\u001b[39m.\u001b[39;49mloads(response\u001b[39m.\u001b[39;49mchoices[\u001b[39m0\u001b[39;49m]\u001b[39m.\u001b[39;49mtext)\n",
      "File \u001b[1;32mc:\\Users\\PULKIT\\anaconda3\\lib\\json\\__init__.py:346\u001b[0m, in \u001b[0;36mloads\u001b[1;34m(s, cls, object_hook, parse_float, parse_int, parse_constant, object_pairs_hook, **kw)\u001b[0m\n\u001b[0;32m    341\u001b[0m     s \u001b[39m=\u001b[39m s\u001b[39m.\u001b[39mdecode(detect_encoding(s), \u001b[39m'\u001b[39m\u001b[39msurrogatepass\u001b[39m\u001b[39m'\u001b[39m)\n\u001b[0;32m    343\u001b[0m \u001b[39mif\u001b[39;00m (\u001b[39mcls\u001b[39m \u001b[39mis\u001b[39;00m \u001b[39mNone\u001b[39;00m \u001b[39mand\u001b[39;00m object_hook \u001b[39mis\u001b[39;00m \u001b[39mNone\u001b[39;00m \u001b[39mand\u001b[39;00m\n\u001b[0;32m    344\u001b[0m         parse_int \u001b[39mis\u001b[39;00m \u001b[39mNone\u001b[39;00m \u001b[39mand\u001b[39;00m parse_float \u001b[39mis\u001b[39;00m \u001b[39mNone\u001b[39;00m \u001b[39mand\u001b[39;00m\n\u001b[0;32m    345\u001b[0m         parse_constant \u001b[39mis\u001b[39;00m \u001b[39mNone\u001b[39;00m \u001b[39mand\u001b[39;00m object_pairs_hook \u001b[39mis\u001b[39;00m \u001b[39mNone\u001b[39;00m \u001b[39mand\u001b[39;00m \u001b[39mnot\u001b[39;00m kw):\n\u001b[1;32m--> 346\u001b[0m     \u001b[39mreturn\u001b[39;00m _default_decoder\u001b[39m.\u001b[39;49mdecode(s)\n\u001b[0;32m    347\u001b[0m \u001b[39mif\u001b[39;00m \u001b[39mcls\u001b[39m \u001b[39mis\u001b[39;00m \u001b[39mNone\u001b[39;00m:\n\u001b[0;32m    348\u001b[0m     \u001b[39mcls\u001b[39m \u001b[39m=\u001b[39m JSONDecoder\n",
      "File \u001b[1;32mc:\\Users\\PULKIT\\anaconda3\\lib\\json\\decoder.py:337\u001b[0m, in \u001b[0;36mJSONDecoder.decode\u001b[1;34m(self, s, _w)\u001b[0m\n\u001b[0;32m    332\u001b[0m \u001b[39mdef\u001b[39;00m \u001b[39mdecode\u001b[39m(\u001b[39mself\u001b[39m, s, _w\u001b[39m=\u001b[39mWHITESPACE\u001b[39m.\u001b[39mmatch):\n\u001b[0;32m    333\u001b[0m     \u001b[39m\"\"\"Return the Python representation of ``s`` (a ``str`` instance\u001b[39;00m\n\u001b[0;32m    334\u001b[0m \u001b[39m    containing a JSON document).\u001b[39;00m\n\u001b[0;32m    335\u001b[0m \n\u001b[0;32m    336\u001b[0m \u001b[39m    \"\"\"\u001b[39;00m\n\u001b[1;32m--> 337\u001b[0m     obj, end \u001b[39m=\u001b[39m \u001b[39mself\u001b[39;49m\u001b[39m.\u001b[39;49mraw_decode(s, idx\u001b[39m=\u001b[39;49m_w(s, \u001b[39m0\u001b[39;49m)\u001b[39m.\u001b[39;49mend())\n\u001b[0;32m    338\u001b[0m     end \u001b[39m=\u001b[39m _w(s, end)\u001b[39m.\u001b[39mend()\n\u001b[0;32m    339\u001b[0m     \u001b[39mif\u001b[39;00m end \u001b[39m!=\u001b[39m \u001b[39mlen\u001b[39m(s):\n",
      "File \u001b[1;32mc:\\Users\\PULKIT\\anaconda3\\lib\\json\\decoder.py:353\u001b[0m, in \u001b[0;36mJSONDecoder.raw_decode\u001b[1;34m(self, s, idx)\u001b[0m\n\u001b[0;32m    344\u001b[0m \u001b[39m\"\"\"Decode a JSON document from ``s`` (a ``str`` beginning with\u001b[39;00m\n\u001b[0;32m    345\u001b[0m \u001b[39ma JSON document) and return a 2-tuple of the Python\u001b[39;00m\n\u001b[0;32m    346\u001b[0m \u001b[39mrepresentation and the index in ``s`` where the document ended.\u001b[39;00m\n\u001b[1;32m   (...)\u001b[0m\n\u001b[0;32m    350\u001b[0m \n\u001b[0;32m    351\u001b[0m \u001b[39m\"\"\"\u001b[39;00m\n\u001b[0;32m    352\u001b[0m \u001b[39mtry\u001b[39;00m:\n\u001b[1;32m--> 353\u001b[0m     obj, end \u001b[39m=\u001b[39m \u001b[39mself\u001b[39;49m\u001b[39m.\u001b[39;49mscan_once(s, idx)\n\u001b[0;32m    354\u001b[0m \u001b[39mexcept\u001b[39;00m \u001b[39mStopIteration\u001b[39;00m \u001b[39mas\u001b[39;00m err:\n\u001b[0;32m    355\u001b[0m     \u001b[39mraise\u001b[39;00m JSONDecodeError(\u001b[39m\"\u001b[39m\u001b[39mExpecting value\u001b[39m\u001b[39m\"\u001b[39m, s, err\u001b[39m.\u001b[39mvalue) \u001b[39mfrom\u001b[39;00m \u001b[39mNone\u001b[39m\n",
      "\u001b[1;31mJSONDecodeError\u001b[0m: Expecting property name enclosed in double quotes: line 2 column 3 (char 3)"
     ]
    }
   ],
   "source": [
    "user_requirements = {\n",
    "    \"product_name\":\"ac\",\n",
    "    \"price\":2000,\n",
    "    \"brand\":\"\"\n",
    "}\n",
    "product_list = new_item_list\n",
    "recommendation = generate_recommendation(user_preferences, user_requirements, product_list)\n",
    "print(recommendation)"
   ]
  },
  {
   "cell_type": "code",
   "execution_count": null,
   "metadata": {},
   "outputs": [],
   "source": []
  },
  {
   "cell_type": "code",
   "execution_count": null,
   "metadata": {},
   "outputs": [],
   "source": []
  }
 ],
 "metadata": {
  "kernelspec": {
   "display_name": "Python 3 (ipykernel)",
   "language": "python",
   "name": "python3"
  },
  "language_info": {
   "codemirror_mode": {
    "name": "ipython",
    "version": 3
   },
   "file_extension": ".py",
   "mimetype": "text/x-python",
   "name": "python",
   "nbconvert_exporter": "python",
   "pygments_lexer": "ipython3",
   "version": "3.9.12"
  },
  "orig_nbformat": 4
 },
 "nbformat": 4,
 "nbformat_minor": 2
}
