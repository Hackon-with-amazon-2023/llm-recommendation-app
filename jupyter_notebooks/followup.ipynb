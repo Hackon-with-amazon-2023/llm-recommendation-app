{
 "cells": [
  {
   "cell_type": "code",
   "execution_count": 1,
   "metadata": {},
   "outputs": [],
   "source": [
    "import openai\n",
    "import json"
   ]
  },
  {
   "cell_type": "code",
   "execution_count": 2,
   "metadata": {},
   "outputs": [],
   "source": [
    "# Set your OpenAI API key\n",
    "api_key = \"sk----\""
   ]
  },
  {
   "cell_type": "markdown",
   "metadata": {},
   "source": [
    "Input:\n",
    "```\n",
    "{{\n",
    "\t\"question\": \"raw question\"\n",
    "}}\n",
    "```\n",
    "\n",
    "\n",
    "Output:\n",
    "```\n",
    "{{\n",
    "\t\"product_category\": \"category of the products mentioned\",\n",
    "\t\"product_names\": [\"array of product names mentioned\"],\n",
    "\t\"filters\": {{\n",
    "\t\t\"budget\" : {{\n",
    "\t\t\t\"low\": integer lower value of budget,\n",
    "\t\t\t\"high\": integet upper value of budget\n",
    "\t\t}},\n",
    "\t\t\"brands\": [\"array of brands mentioned\"],\n",
    "\t\t\"ratings\": integer value of rating in range [1, 5] \n",
    "\t}}\n",
    "}}\n",
    "```"
   ]
  },
  {
   "cell_type": "code",
   "execution_count": 41,
   "metadata": {},
   "outputs": [],
   "source": [
    "template_prompt = \"\"\"\n",
    "Generate a standalone question which is based on the new question plus the chat history.\n",
    "\n",
    "- If the new question is totally different, or if the previous question is empty string then use it as the new standalone question\n",
    "- else update the previous question and combine it with the new question\n",
    "\n",
    "Give output in the following JSON format:\n",
    "{\n",
    "    \"standalone_question\": \"Your generated standalone question goes here.\"\n",
    "}\n",
    "\n",
    "New Question: \"I want to buy shoes\"\n",
    "\n",
    "Previous question: \"Can you please help me buy an AC in the range of 23000-40000?\"\n",
    "\n",
    "Stand Alone question:\n",
    "\"\"\""
   ]
  },
  {
   "cell_type": "code",
   "execution_count": 42,
   "metadata": {},
   "outputs": [
    {
     "name": "stdout",
     "output_type": "stream",
     "text": [
      "\n",
      "\"Can you please help me buy shoes?\"\n"
     ]
    }
   ],
   "source": [
    "# Function to call GPT-3.5 with the template\n",
    "def generate_translation():\n",
    "    prompt = template_prompt\n",
    "    \n",
    "    response = openai.Completion.create(\n",
    "        engine=\"text-davinci-002\",  # GPT-3.5\n",
    "        prompt=prompt,\n",
    "        max_tokens=1000,  # Adjust this as needed\n",
    "        api_key=api_key,\n",
    "        temperature=0\n",
    "    )\n",
    "    \n",
    "    return response.choices[0].text\n",
    "\n",
    "# Example usage\n",
    "# question = { \"I want to buy Nike\"}\n",
    "\n",
    "translation = generate_translation()\n",
    "print(translation)"
   ]
  },
  {
   "cell_type": "code",
   "execution_count": null,
   "metadata": {},
   "outputs": [],
   "source": []
  },
  {
   "cell_type": "code",
   "execution_count": null,
   "metadata": {},
   "outputs": [],
   "source": []
  }
 ],
 "metadata": {
  "kernelspec": {
   "display_name": "Python 3",
   "language": "python",
   "name": "python3"
  },
  "language_info": {
   "codemirror_mode": {
    "name": "ipython",
    "version": 3
   },
   "file_extension": ".py",
   "mimetype": "text/x-python",
   "name": "python",
   "nbconvert_exporter": "python",
   "pygments_lexer": "ipython3",
   "version": "3.10.8"
  }
 },
 "nbformat": 4,
 "nbformat_minor": 2
}
