{
 "cells": [
  {
   "cell_type": "code",
   "execution_count": 23,
   "metadata": {},
   "outputs": [
    {
     "data": {
      "text/plain": [
       "True"
      ]
     },
     "execution_count": 23,
     "metadata": {},
     "output_type": "execute_result"
    }
   ],
   "source": [
    "import openai\n",
    "from dotenv.main import load_dotenv\n",
    "from langchain import PromptTemplate\n",
    "import json, os\n",
    "\n",
    "load_dotenv()"
   ]
  },
  {
   "cell_type": "code",
   "execution_count": 24,
   "metadata": {},
   "outputs": [],
   "source": [
    "# Set your OpenAI API key\n",
    "api_key = os.environ.get(\"OPENAI_API_KEY\")"
   ]
  },
  {
   "cell_type": "code",
   "execution_count": 25,
   "metadata": {},
   "outputs": [],
   "source": [
    "standalone_prompt = \"\"\"\n",
    "Generate a standalone question which is combination of the new question plus the chat history.\n",
    "\n",
    "- If the new product is totally different, or if the previous question is empty string then use it as the new standalone question\n",
    "- else update the previous question and combine it with the new question\n",
    "\n",
    "Give output in the following JSON format:\n",
    "{{\n",
    "    \"standalone_question\": \"Your generated standalone question goes here.\"\n",
    "}}\n",
    "\n",
    "New Question: {new_query}\n",
    "\n",
    "Previous question: {previous_query}\n",
    "\n",
    "Output:\n",
    "\"\"\""
   ]
  },
  {
   "cell_type": "code",
   "execution_count": 26,
   "metadata": {},
   "outputs": [],
   "source": [
    "standalone_prompt_template = PromptTemplate(\n",
    "    template=standalone_prompt,\n",
    "    input_variables=[\"new_query\", \"previous_query\"]\n",
    ")"
   ]
  },
  {
   "cell_type": "code",
   "execution_count": 27,
   "metadata": {},
   "outputs": [
    {
     "name": "stdout",
     "output_type": "stream",
     "text": [
      "\n",
      "{\n",
      "    \"standalone_question\": \"I want to buy a laptop.\"\n",
      "}\n"
     ]
    }
   ],
   "source": [
    "\n",
    "def generate_standalone_question(new_query, previous_query):\n",
    "    prompt = standalone_prompt_template.format(new_query=new_query, previous_query=previous_query)\n",
    "    \n",
    "    response = openai.Completion.create(\n",
    "        engine=\"text-davinci-002\",  # GPT-3.5\n",
    "        prompt=prompt,\n",
    "        max_tokens=1000,  # Adjust this as needed\n",
    "        api_key=api_key,\n",
    "        temperature=0\n",
    "    )\n",
    "    \n",
    "    return response.choices[0].text\n",
    "\n",
    "# Example usage\n",
    "# question = { \"I want to buy Nike\"}\n",
    "new_query = \"Show me laptop\"\n",
    "previous_query = \"I want to buy shoes in range 2000-3000.\"\n",
    "translation = generate_standalone_question(new_query, previous_query)\n",
    "print(translation)"
   ]
  },
  {
   "cell_type": "code",
   "execution_count": null,
   "metadata": {},
   "outputs": [],
   "source": []
  },
  {
   "cell_type": "code",
   "execution_count": null,
   "metadata": {},
   "outputs": [],
   "source": []
  }
 ],
 "metadata": {
  "kernelspec": {
   "display_name": "Python 3",
   "language": "python",
   "name": "python3"
  },
  "language_info": {
   "codemirror_mode": {
    "name": "ipython",
    "version": 3
   },
   "file_extension": ".py",
   "mimetype": "text/x-python",
   "name": "python",
   "nbconvert_exporter": "python",
   "pygments_lexer": "ipython3",
   "version": "3.9.12"
  }
 },
 "nbformat": 4,
 "nbformat_minor": 2
}
