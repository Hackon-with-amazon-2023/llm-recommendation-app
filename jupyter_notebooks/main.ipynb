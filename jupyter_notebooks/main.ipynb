{
 "cells": [
  {
   "cell_type": "code",
   "execution_count": null,
   "metadata": {},
   "outputs": [],
   "source": [
    "import openai"
   ]
  },
  {
   "cell_type": "code",
   "execution_count": null,
   "metadata": {},
   "outputs": [],
   "source": [
    "# Set your OpenAI API key\n",
    "api_key = \"your_api_key_here\""
   ]
  },
  {
   "cell_type": "code",
   "execution_count": 1,
   "metadata": {},
   "outputs": [],
   "source": [
    "\n",
    "template_prompt = \"\"\"\n",
    "Translate the following English text to French:\n",
    "\n",
    "English: \"{text}\"\n",
    "\n",
    "French: \n",
    "\"\"\""
   ]
  },
  {
   "cell_type": "code",
   "execution_count": null,
   "metadata": {},
   "outputs": [],
   "source": [
    "# Function to call GPT-3.5 with the template\n",
    "def generate_translation(text):\n",
    "    prompt = template_prompt.format(text=text)\n",
    "    \n",
    "    response = openai.Completion.create(\n",
    "        engine=\"text-davinci-002\",  # GPT-3.5\n",
    "        prompt=prompt,\n",
    "        max_tokens=50,  # Adjust this as needed\n",
    "        api_key=api_key\n",
    "    )\n",
    "    \n",
    "    return response.choices[0].text\n",
    "\n",
    "# Example usage\n",
    "input_text = \"Hello, how are you?\"\n",
    "translation = generate_translation(input_text)\n",
    "print(translation)"
   ]
  }
 ],
 "metadata": {
  "kernelspec": {
   "display_name": "Python 3",
   "language": "python",
   "name": "python3"
  },
  "language_info": {
   "codemirror_mode": {
    "name": "ipython",
    "version": 3
   },
   "file_extension": ".py",
   "mimetype": "text/x-python",
   "name": "python",
   "nbconvert_exporter": "python",
   "pygments_lexer": "ipython3",
   "version": "3.10.0"
  }
 },
 "nbformat": 4,
 "nbformat_minor": 2
}
