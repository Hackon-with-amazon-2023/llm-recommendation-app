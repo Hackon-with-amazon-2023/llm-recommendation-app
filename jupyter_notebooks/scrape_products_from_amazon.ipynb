{
 "cells": [
  {
   "cell_type": "code",
   "execution_count": 43,
   "metadata": {},
   "outputs": [],
   "source": [
    "from selenium import webdriver\n",
    "from selenium.webdriver.chrome.service import Service as ChromeService\n",
    "from selenium.webdriver.chrome.options import Options\n",
    "from selenium.webdriver.common.by import By\n",
    "\n",
    "\n",
    "from webdriver_manager.chrome import ChromeDriverManager"
   ]
  },
  {
   "cell_type": "code",
   "execution_count": 41,
   "metadata": {},
   "outputs": [],
   "source": [
    "options = Options()\n",
    "options.add_argument('--headless')\n",
    "\n",
    "driver = webdriver.Chrome(service=ChromeService(ChromeDriverManager().install()), options=options)"
   ]
  },
  {
   "cell_type": "code",
   "execution_count": 42,
   "metadata": {},
   "outputs": [],
   "source": [
    "# assign your website to scrape\n",
    "web = 'https://www.amazon.com'\n",
    "driver.get(web)"
   ]
  },
  {
   "cell_type": "code",
   "execution_count": 44,
   "metadata": {},
   "outputs": [],
   "source": [
    "# assign any keyword for searching\n",
    "keyword = \"wireless charger\"\n",
    "\n",
    "# create WebElement for a search box\n",
    "search_box = driver.find_element(By.ID, 'twotabsearchtextbox')\n",
    "\n",
    "# type the keyword in searchbox\n",
    "search_box.send_keys(keyword)\n",
    "\n",
    "# create WebElement for a search button\n",
    "search_button = driver.find_element(By.ID, 'nav-search-submit-button')\n",
    "\n",
    "# click search_button\n",
    "search_button.click()\n",
    "\n",
    "# wait for the page to download\n",
    "driver.implicitly_wait(5)"
   ]
  },
  {
   "cell_type": "code",
   "execution_count": 45,
   "metadata": {},
   "outputs": [],
   "source": [
    "product_name = []\n",
    "product_asin = []\n",
    "product_price = []\n",
    "product_ratings = []\n",
    "product_ratings_num = []\n",
    "product_link = []"
   ]
  },
  {
   "cell_type": "code",
   "execution_count": 47,
   "metadata": {},
   "outputs": [],
   "source": [
    "from selenium.webdriver.support.ui import WebDriverWait \n",
    "from selenium.webdriver.support import expected_conditions as EC\n",
    "\n",
    "\n",
    "items = WebDriverWait(driver,10).until(EC.presence_of_all_elements_located((By.XPATH, '//div[contains(@class, \"s-result-item s-asin\")]')))"
   ]
  },
  {
   "cell_type": "code",
   "execution_count": 51,
   "metadata": {},
   "outputs": [
    {
     "name": "stdout",
     "output_type": "stream",
     "text": [
      "['Amazon Basics 10W Qi Certified Wireless Charging Stand (iPhone 14/13/12/11/X, Samsung) - with USB Cable (No AC Adapter), Black', 'Fast Wireless Charger,NANAMI Qi Certified Wireless Charging Stand Compatible iPhone 15/15 Pro/15 Plus/15 Pro Max/14/14 Pro/13/12/11,Samsung Galaxy S23/S22/S21/S20/Note 20 Ultra and Qi-Enabled Phone', 'INIU Wireless Charger, 15W Fast Wireless Charging Station with Sleep-Friendly Adaptive Light Compatible with iPhone 15 14 13 12 Pro XR XS 8 Plus Samsung Galaxy S23 S22 S21 S20 Note 20 10 Google etc', 'Apple MagSafe Charger - Wireless Charger with Fast Charging Capability, Type C Wall Charger, Compatible with iPhone and AirPods', 'Yootech Wireless Charger,10W Max Fast Wireless Charging Pad Compatible with iPhone 15/15 Plus/15 Pro Max/14/13/SE 2022/12/11/X/8,Samsung Galaxy S22/S21/S20,AirPods Pro 2(No AC Adapter)', 'Wireless Charging Station,3 in 1 Wireless Charging Stand Made for Apple Watch Ultra 9 8 7 6 SE 5 4 3,Fast Wireless Charger Made for iPhone 15/15 Plus/15 Pro Max/14/13/12/11/X,AirPods Pro(with Adapter)', 'Amazon Basics 15W Qi Certified Wireless Charging Pad (iPhone 14/13/12/11/X, Samsung) - with USB Cable (No AC Adapter), Black', '[2-Pack] Wireless Charger, INIU 15W Fast Wireless Charging Stand with Sleep-Friendly Adaptive Light Compatible with iPhone 15 14 13 12 11 Pro XR XS X Plus Samsung Galaxy S21 S20 Note 20 etc', 'Wireless Charger, 15W Max Fast Wireless Charging Pad 2-Pack Compatible with iPhone 15/15 Pro/15 Plus/15 ProMax/14/14 Pro/14 Plus/13/12/Samsung S21/S20/Note 10/Edge Note 20Ultra/S10, AirPods Pro', 'Wireless Charger for iPhone - 5 in 1 Charging Station for Multiple Devices Apple: Fast Wireless Charging Stand Dock for iPhone 15 14 13 12 Pro Max Apple Watch Airpods', 'TOZO W1 Wireless Charger, 10W Qi-Certified Fast Charging Pad with Aviation Aluminum Computer Numerical Control Technology Compatible with iPhone 15 14 13 12 Series, for Samsung Galaxy Series', 'Charging Station for iPhone Multiple Devices - 3 in 1 Fast Wireless Charger Dock Stand for iPhone 15 14 13 12 11 Pro X Max XS XR 8 7 Plus Apple Watch Series 7 6 SE 5 4 3 2 & Airpods with Adapter', 'Wireless Charger, 15W Fast Wireless Charging Station, SAFUEL Wireless Charging Stand with Sleep-Friendly Light for iPhone 14 13 12 Pro XR XS 8 Plus Samsung Galaxy S22 S21 S20 Note 10 Ultra Google', 'SAMSUNG 15W Wireless Charger Single, Cordless Super Fast Charging Pad for Galaxy Phones and Devices, USB C Cable Included, 2022, US Version, Black', 'SAMSUNG 15W Wireless Charger Duo w/ USB C Cable, Charge 2 Devices at Once, Cordless Super Fast Charging Pad for Galaxy Phones and Devices, 2022, US Version, White', 'Yootech [2 Pack] Wireless Charger,10W Max Wireless Charging Stand,Compatible with iPhone 15/15 Plus/15 Pro Max/14/13/SE 2022/12/11/X/8,Galaxy S22/S21/S20/S10(No AC Adapter)', 'Wireless Charger for Samsung - NANAMI 3 in 1 Charging Station for Multiple Devices, Fast Charger Stand Dock for Galaxy S23 Ultra S22 S21 S20 Z Flip Fold 4,Galaxy Watch 6/5/5 Pro/4/3, Galaxy Buds 2 Pro', '2 Pack Magnetic Wireless Charger for iPhone 15/15 Pro/15 Plus/15 Pro Max 15W Fast Mag-Safe Charger for iPhone 15/14/13/12 Series and AirPods 3/2/Pro 2/Pro (Mag-Safe Charger Silver)', 'KPON Invisible Wireless Charger - 40MM(1.57\") Under Desk Wireless Phone Charger - Hidden Charging Station for iPhone 15/14/13/12/Wireless Phones(Adapter Included)', 'UCOMX Nano 3 in 1 Wireless Charger for iPhone,Magnetic Foldable 3 in 1 Charging Station,Travel Charger for Multple Devices for iPhone 15/14/13/12 Series,AirPods Pro,iWatch(Adapter Included)', 'Wireless Charging Station, 3 in 1 Foldable Fast Charging Station, Wireless Charger Stand for iPhone 15/14/13/12/11/Pro/Max/Mini/XR/X/Xs/8 Series, AirPods 3/2/Pro, Apple Watch(No Adaptor, Black)', 'Yootech Wireless Charger,10W Max Wireless Charging Stand, Compatible with iPhone 15/15 Plus/15 Pro Max/14/14 Plus/14 Pro/14 Pro Max/13/SE 2022/12/11/X/8, Galaxy S22/S21/S20/S10(No AC Adapter)', 'Amazon Basics 10W Qi Certified Wireless Charging Stand (iPhone 14/13/12/11/X, Samsung) - with USB Cable (No AC Adapter), Black', 'Fast Wireless Charger,NANAMI Qi Certified Wireless Charging Stand Compatible iPhone 15/15 Pro/15 Plus/15 Pro Max/14/14 Pro/13/12/11,Samsung Galaxy S23/S22/S21/S20/Note 20 Ultra and Qi-Enabled Phone', 'INIU Wireless Charger, 15W Fast Wireless Charging Station with Sleep-Friendly Adaptive Light Compatible with iPhone 15 14 13 12 Pro XR XS 8 Plus Samsung Galaxy S23 S22 S21 S20 Note 20 10 Google etc', 'Apple MagSafe Charger - Wireless Charger with Fast Charging Capability, Type C Wall Charger, Compatible with iPhone and AirPods', 'Yootech Wireless Charger,10W Max Fast Wireless Charging Pad Compatible with iPhone 15/15 Plus/15 Pro Max/14/13/SE 2022/12/11/X/8,Samsung Galaxy S22/S21/S20,AirPods Pro 2(No AC Adapter)', 'Wireless Charging Station,3 in 1 Wireless Charging Stand Made for Apple Watch Ultra 9 8 7 6 SE 5 4 3,Fast Wireless Charger Made for iPhone 15/15 Plus/15 Pro Max/14/13/12/11/X,AirPods Pro(with Adapter)', 'Amazon Basics 15W Qi Certified Wireless Charging Pad (iPhone 14/13/12/11/X, Samsung) - with USB Cable (No AC Adapter), Black', '[2-Pack] Wireless Charger, INIU 15W Fast Wireless Charging Stand with Sleep-Friendly Adaptive Light Compatible with iPhone 15 14 13 12 11 Pro XR XS X Plus Samsung Galaxy S21 S20 Note 20 etc', 'Wireless Charger, 15W Max Fast Wireless Charging Pad 2-Pack Compatible with iPhone 15/15 Pro/15 Plus/15 ProMax/14/14 Pro/14 Plus/13/12/Samsung S21/S20/Note 10/Edge Note 20Ultra/S10, AirPods Pro', 'Wireless Charger for iPhone - 5 in 1 Charging Station for Multiple Devices Apple: Fast Wireless Charging Stand Dock for iPhone 15 14 13 12 Pro Max Apple Watch Airpods', 'TOZO W1 Wireless Charger, 10W Qi-Certified Fast Charging Pad with Aviation Aluminum Computer Numerical Control Technology Compatible with iPhone 15 14 13 12 Series, for Samsung Galaxy Series', 'Charging Station for iPhone Multiple Devices - 3 in 1 Fast Wireless Charger Dock Stand for iPhone 15 14 13 12 11 Pro X Max XS XR 8 7 Plus Apple Watch Series 7 6 SE 5 4 3 2 & Airpods with Adapter', 'Wireless Charger, 15W Fast Wireless Charging Station, SAFUEL Wireless Charging Stand with Sleep-Friendly Light for iPhone 14 13 12 Pro XR XS 8 Plus Samsung Galaxy S22 S21 S20 Note 10 Ultra Google', 'SAMSUNG 15W Wireless Charger Single, Cordless Super Fast Charging Pad for Galaxy Phones and Devices, USB C Cable Included, 2022, US Version, Black', 'SAMSUNG 15W Wireless Charger Duo w/ USB C Cable, Charge 2 Devices at Once, Cordless Super Fast Charging Pad for Galaxy Phones and Devices, 2022, US Version, White', 'Yootech [2 Pack] Wireless Charger,10W Max Wireless Charging Stand,Compatible with iPhone 15/15 Plus/15 Pro Max/14/13/SE 2022/12/11/X/8,Galaxy S22/S21/S20/S10(No AC Adapter)', 'Wireless Charger for Samsung - NANAMI 3 in 1 Charging Station for Multiple Devices, Fast Charger Stand Dock for Galaxy S23 Ultra S22 S21 S20 Z Flip Fold 4,Galaxy Watch 6/5/5 Pro/4/3, Galaxy Buds 2 Pro', '2 Pack Magnetic Wireless Charger for iPhone 15/15 Pro/15 Plus/15 Pro Max 15W Fast Mag-Safe Charger for iPhone 15/14/13/12 Series and AirPods 3/2/Pro 2/Pro (Mag-Safe Charger Silver)', 'KPON Invisible Wireless Charger - 40MM(1.57\") Under Desk Wireless Phone Charger - Hidden Charging Station for iPhone 15/14/13/12/Wireless Phones(Adapter Included)', 'UCOMX Nano 3 in 1 Wireless Charger for iPhone,Magnetic Foldable 3 in 1 Charging Station,Travel Charger for Multple Devices for iPhone 15/14/13/12 Series,AirPods Pro,iWatch(Adapter Included)', 'Wireless Charging Station, 3 in 1 Foldable Fast Charging Station, Wireless Charger Stand for iPhone 15/14/13/12/11/Pro/Max/Mini/XR/X/Xs/8 Series, AirPods 3/2/Pro, Apple Watch(No Adaptor, Black)', 'Yootech Wireless Charger,10W Max Wireless Charging Stand, Compatible with iPhone 15/15 Plus/15 Pro Max/14/14 Plus/14 Pro/14 Pro Max/13/SE 2022/12/11/X/8, Galaxy S22/S21/S20/S10(No AC Adapter)']\n",
      "['B0874YN8B9', 'B06XXZK99F', 'B08LVSFN4X', 'B08L5NP6NG', 'B079KZ49PJ', 'B0B3RC6M94', 'B0872RLX6Z', 'B093PF7Z6J', 'B09SHQFVPW', 'B0C1H5HNV3', 'B07FM8R7J1', 'B0BGSJM8RJ', 'B09QPRBG29', 'B09MV4SRP1', 'B09MV3MQN3', 'B07P999H4J', 'B0C1NFLZBT', 'B0BLKJJCBV', 'B0BGHC8KBQ', 'B09FKZ7M9M', 'B092D6ZYPP', 'B07N682SWY']\n"
     ]
    }
   ],
   "source": [
    "for item in items:\n",
    "   name = item.find_element(By.XPATH, './/span[@class=\"a-size-medium a-color-base a-text-normal\"]')\n",
    "   product_name.append(name.text)\n",
    "   data_asin = item.get_attribute(\"data-asin\")\n",
    "   product_asin.append(data_asin)\n",
    "\n",
    "# following print statement is for checking that we correctly scrape data we want\n",
    "print(product_name)\n",
    "print(product_asin)\n"
   ]
  },
  {
   "cell_type": "code",
   "execution_count": 52,
   "metadata": {},
   "outputs": [],
   "source": [
    "driver.quit()"
   ]
  },
  {
   "cell_type": "code",
   "execution_count": null,
   "metadata": {},
   "outputs": [],
   "source": []
  }
 ],
 "metadata": {
  "kernelspec": {
   "display_name": "base",
   "language": "python",
   "name": "python3"
  },
  "language_info": {
   "codemirror_mode": {
    "name": "ipython",
    "version": 3
   },
   "file_extension": ".py",
   "mimetype": "text/x-python",
   "name": "python",
   "nbconvert_exporter": "python",
   "pygments_lexer": "ipython3",
   "version": "3.9.12"
  },
  "orig_nbformat": 4
 },
 "nbformat": 4,
 "nbformat_minor": 2
}
