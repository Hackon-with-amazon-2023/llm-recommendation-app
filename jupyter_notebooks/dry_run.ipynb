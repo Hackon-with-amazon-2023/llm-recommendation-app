{
 "cells": [
  {
   "cell_type": "markdown",
   "metadata": {},
   "source": [
    "This notebook contains the dry run of the entire pipeline"
   ]
  },
  {
   "cell_type": "code",
   "execution_count": null,
   "metadata": {},
   "outputs": [],
   "source": [
    "%pip install openai\n",
    "%pip install langchain\n",
    "%pip install --upgrade python-dotenv\n"
   ]
  },
  {
   "cell_type": "code",
   "execution_count": 11,
   "metadata": {},
   "outputs": [],
   "source": [
    "# Importing the requirements\n",
    "import json, os\n",
    "import openai\n",
    "from langchain import PromptTemplate\n",
    "from langchain.chat_models import ChatOpenAI\n",
    "from langchain.chains import ConversationChain\n",
    "from langchain.memory import ConversationBufferWindowMemory\n",
    "# from dotenv import load_dotenv"
   ]
  },
  {
   "cell_type": "code",
   "execution_count": 12,
   "metadata": {},
   "outputs": [],
   "source": [
    "# load_dotenv()\n",
    "# api_key = os.getenv(\"OPENAI_API_KEY\")\n",
    "# print(api_key)"
   ]
  },
  {
   "cell_type": "code",
   "execution_count": null,
   "metadata": {},
   "outputs": [],
   "source": [
    "# Setting the LLM and conversation chain\n",
    "llm = ChatOpenAI(temperature=0)\n",
    "memory = ConversationBufferWindowMemory(k=3)\n",
    "conversation = ConversationChain(\n",
    "    llm=llm,\n",
    "    memory=memory,\n",
    "    verbose=True\n",
    ")"
   ]
  },
  {
   "cell_type": "code",
   "execution_count": 29,
   "metadata": {},
   "outputs": [],
   "source": [
    "extraction_prompt = \"\"\"\n",
    "You are good in extracting information.\n",
    "You will be given a input json containing question, and you have to extract the following files in the specified JSON format.\n",
    "{{\n",
    "\t\"product_category\": \"category of the product mentioned\",\n",
    "\t\"product_names\": [\"array of specific product names mentioned\"],\n",
    "\t\"filters\": {{\n",
    "\t\t\"budget\" : {{\n",
    "\t\t\t\"low\": integer lower value of budget and default null,\n",
    "\t\t\t\"high\": integet upper value of budget and default null\n",
    "\t\t}},\n",
    "\t\t\"brands\": [\"array of brands/company names mentioned\"],\n",
    "\t\t\"ratings\": integer value of rating in range [1, 5] \n",
    "\t}}\n",
    "}}\n",
    "\n",
    "Example is show below\n",
    "Input:\n",
    "{{\n",
    "\t\"question\": \"I want to buy the best air conditioner for my living room in a 30K budget, please suggest me a branded 5-star power-rated AC preferably of LG.\"\n",
    "}}\n",
    "Output:\n",
    "{{\n",
    "\t\"product_category\": \"air conditioner\",\n",
    "\t\"product_names\": [],\n",
    "\t\"filters\": {{\n",
    "\t\t\"budget\" : {{\n",
    "\t\t\t\"low\": null,\n",
    "\t\t\t\"high\": 30000\n",
    "\t\t}},\n",
    "\t\t\"brands\": [\"LG\"],\n",
    "\t\t\"ratings\": 5\n",
    "\t}}\n",
    "}}\n",
    "\n",
    "Let's begin\n",
    "Input:\n",
    "{question}\n",
    "Output: \n",
    "\"\"\""
   ]
  },
  {
   "cell_type": "code",
   "execution_count": 30,
   "metadata": {},
   "outputs": [],
   "source": [
    "extraction_prompt_template = PromptTemplate(\n",
    "    template=extraction_prompt,\n",
    "    input_variables=[\"question\"]\n",
    ")"
   ]
  },
  {
   "cell_type": "code",
   "execution_count": 39,
   "metadata": {},
   "outputs": [
    {
     "name": "stdout",
     "output_type": "stream",
     "text": [
      "<class 'dict'>\n",
      "{'product_category': 'laptop', 'product_names': ['gaming laptop'], 'filters': {'budget': {'low': 1000, 'high': None}, 'brands': [], 'ratings': None}}\n"
     ]
    }
   ],
   "source": [
    "# Extract information from raw query:\n",
    "\n",
    "def get_extracted_information(question):\n",
    "    prompt = extraction_prompt_template.format(question=question)\n",
    "    response = openai.Completion.create(\n",
    "        engine=\"text-davinci-002\",\n",
    "        prompt=prompt,\n",
    "        max_tokens=1000, \n",
    "        temperature=0,\n",
    "        api_key=api_key\n",
    "    )\n",
    "    \n",
    "    return response.choices[0].text\n",
    "\n",
    "question = \"I want to buy the best laptop for gaming under $1000. Can you suggest a good brand?\"\n",
    "extracted_information = get_extracted_information(question)\n",
    "extracted_information = json.loads(extracted_information)\n",
    "print(type(extracted_information))\n",
    "print(extracted_information)"
   ]
  },
  {
   "cell_type": "code",
   "execution_count": 40,
   "metadata": {},
   "outputs": [],
   "source": [
    "# Here comes to code to make API call and get the products details\n",
    "products_list = []\n",
    "# TODO: get products list"
   ]
  },
  {
   "cell_type": "code",
   "execution_count": 41,
   "metadata": {},
   "outputs": [],
   "source": [
    "# Using the products list, and the query the llm will recommend the products\n",
    "# TODO: create prompt for this\n",
    "\n",
    "# Definition of Done: User gets a proper output"
   ]
  },
  {
   "cell_type": "code",
   "execution_count": 42,
   "metadata": {},
   "outputs": [],
   "source": [
    "# We need to store this chat history, and use this to check if the next query is followup query or not\n",
    "# TODO: Store important information, and create a is followup prompt"
   ]
  },
  {
   "cell_type": "code",
   "execution_count": null,
   "metadata": {},
   "outputs": [],
   "source": [
    "# TODO: Somehow use the user context file and make recommendations based on that"
   ]
  }
 ],
 "metadata": {
  "kernelspec": {
   "display_name": "Python 3",
   "language": "python",
   "name": "python3"
  },
  "language_info": {
   "codemirror_mode": {
    "name": "ipython",
    "version": 3
   },
   "file_extension": ".py",
   "mimetype": "text/x-python",
   "name": "python",
   "nbconvert_exporter": "python",
   "pygments_lexer": "ipython3",
   "version": "3.10.8"
  }
 },
 "nbformat": 4,
 "nbformat_minor": 2
}
